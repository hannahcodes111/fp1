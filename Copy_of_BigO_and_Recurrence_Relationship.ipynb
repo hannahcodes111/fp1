{
  "nbformat": 4,
  "nbformat_minor": 0,
  "metadata": {
    "colab": {
      "name": "Copy of BigO_and_Recurrence_Relationship.ipynb",
      "provenance": [],
      "collapsed_sections": [],
      "toc_visible": true,
      "include_colab_link": true
    },
    "kernelspec": {
      "name": "python3",
      "display_name": "Python 3"
    }
  },
  "cells": [
    {
      "cell_type": "markdown",
      "metadata": {
        "id": "view-in-github",
        "colab_type": "text"
      },
      "source": [
        "<a href=\"https://colab.research.google.com/github/hannahcodes111/fp1/blob/main/Copy_of_BigO_and_Recurrence_Relationship.ipynb\" target=\"_parent\"><img src=\"https://colab.research.google.com/assets/colab-badge.svg\" alt=\"Open In Colab\"/></a>"
      ]
    },
    {
      "cell_type": "markdown",
      "metadata": {
        "id": "PXOGAZlHoE65"
      },
      "source": [
        "\r\n",
        "1. List following function in incresing order in term of its growth (Big O notation). Don't forget to put its Big O beside each function\r\n",
        " $n!$, $\\log_2 n $, $n - n^3 + 7n^5$, $n^2$, $2^n$, $10$, $(\\log_2{n})^2$, $\\frac{1}{n}$, $(\\frac{1}{3})^n$, $\\sqrt{n}, n^{\\frac{1}{3}}-\\log_2{n}$, $n^{log_2{n}}$\r\n"
      ]
    },
    {
      "cell_type": "markdown",
      "metadata": {
        "id": "nStDtw9dv7UR"
      },
      "source": [
        "**Answer:**"
      ]
    },
    {
      "cell_type": "markdown",
      "metadata": {
        "id": "xZJenQjSv7hH"
      },
      "source": [
        "2. Solve the following recurrence exactly:\r\n",
        "\\begin{equation}\r\n",
        "  T(n)=\\begin{cases}\r\n",
        "    8, & \\text{if $n=1$}.\\\\\r\n",
        "    3T(n-1), & \\text{$n \\ge 2$}.\r\n",
        "  \\end{cases}\r\n",
        "\\end{equation}"
      ]
    },
    {
      "cell_type": "markdown",
      "metadata": {
        "id": "JnJ7i0Cqv7s3"
      },
      "source": [
        "**Answer:**"
      ]
    },
    {
      "cell_type": "markdown",
      "metadata": {
        "id": "wYvRs37wv8Fo"
      },
      "source": [
        "3. Solve the following recurrence exactly:\r\n",
        "\\begin{equation}\r\n",
        "  T(n)=\\begin{cases}\r\n",
        "    4, & \\text{if $n=1$}.\\\\\r\n",
        "    2T(\\frac{n}{2}) + 3n + 2, & \\text{$n \\ge 2$}.\r\n",
        "  \\end{cases}\r\n",
        "\\end{equation}"
      ]
    },
    {
      "cell_type": "markdown",
      "metadata": {
        "id": "9UbO_fP1v8WY"
      },
      "source": [
        "**Answer:**"
      ]
    },
    {
      "cell_type": "markdown",
      "metadata": {
        "id": "WU1uC4Q_wTWZ"
      },
      "source": [
        "\r\n",
        "4. Solve the following recurrence exactly:\r\n",
        "\\begin{equation}\r\n",
        "  T(n)=\\begin{cases}\r\n",
        "    4, & \\text{if $n=1$}.\\\\\r\n",
        "    3T(\\frac{n}{2}) + n^2 - 2n + 1, & \\text{$n \\ge 2$}.\r\n",
        "  \\end{cases}\r\n",
        "\\end{equation}"
      ]
    },
    {
      "cell_type": "markdown",
      "metadata": {
        "id": "0ChjrQUdwTgX"
      },
      "source": [
        "**Answer:**"
      ]
    },
    {
      "cell_type": "markdown",
      "metadata": {
        "id": "s03aQLgEyaKV"
      },
      "source": [
        "5. Compare the two sorting algorithm below based on its running time (using `timeit`) with input from $n = 2$ to $10000$ with increment of $10$. Plot the result using matplotlib plot function.\r\n"
      ]
    },
    {
      "cell_type": "code",
      "metadata": {
        "id": "jfZ5uEvlz568",
        "colab": {
          "base_uri": "https://localhost:8080/",
          "height": 1000
        },
        "outputId": "ff5117a6-786e-4323-dfca-15f1c29cbaac"
      },
      "source": [
        "# -*- coding: utf-8 -*-\r\n",
        "\"\"\"\r\n",
        "Bubble Sort\r\n",
        "Created on Wed Feb  3 10:15:52 2021\r\n",
        "@author: isandjaja\r\n",
        "\"\"\"\r\n",
        "import random\r\n",
        "\"\"\r\n",
        "\r\n",
        "A = [random.randrange(2,10000,10) for i in range(10)]\r\n",
        "\r\n",
        "print(A)\r\n",
        "\r\n",
        "def bubblesort(A):\r\n",
        "    n = len(A)\r\n",
        "    for i in range(n):\r\n",
        "        for j in range(n-1):\r\n",
        "            print(\"i,j,j+1\", i,j,j+1)\r\n",
        "            if A[j] > A[j+1]:\r\n",
        "                A[j],A[j+1] = A[j+1], A[j] #Swap A[j]\r\n",
        "            print(A)\r\n",
        "    return A\r\n",
        "          \r\n",
        "print(\"Sorted A\")      \r\n",
        "B = bubblesort(A)\r\n",
        "print(B)\r\n",
        "if __name__ == \"__main__\":  \r\n",
        "  from timeit import timeit\r\n",
        "  print(timeit(bubblesort(A), number=5))\r\n",
        "  print(timeit(bubblesort(A), number=5))    "
      ],
      "execution_count": null,
      "outputs": [
        {
          "output_type": "stream",
          "text": [
            "[2622, 1452, 412, 6512, 1582, 3482, 7852, 3032, 6862, 9512]\n",
            "Sorted A\n",
            "i,j,j+1 0 0 1\n",
            "[1452, 2622, 412, 6512, 1582, 3482, 7852, 3032, 6862, 9512]\n",
            "i,j,j+1 0 1 2\n",
            "[1452, 412, 2622, 6512, 1582, 3482, 7852, 3032, 6862, 9512]\n",
            "i,j,j+1 0 2 3\n",
            "[1452, 412, 2622, 6512, 1582, 3482, 7852, 3032, 6862, 9512]\n",
            "i,j,j+1 0 3 4\n",
            "[1452, 412, 2622, 1582, 6512, 3482, 7852, 3032, 6862, 9512]\n",
            "i,j,j+1 0 4 5\n",
            "[1452, 412, 2622, 1582, 3482, 6512, 7852, 3032, 6862, 9512]\n",
            "i,j,j+1 0 5 6\n",
            "[1452, 412, 2622, 1582, 3482, 6512, 7852, 3032, 6862, 9512]\n",
            "i,j,j+1 0 6 7\n",
            "[1452, 412, 2622, 1582, 3482, 6512, 3032, 7852, 6862, 9512]\n",
            "i,j,j+1 0 7 8\n",
            "[1452, 412, 2622, 1582, 3482, 6512, 3032, 6862, 7852, 9512]\n",
            "i,j,j+1 0 8 9\n",
            "[1452, 412, 2622, 1582, 3482, 6512, 3032, 6862, 7852, 9512]\n",
            "i,j,j+1 1 0 1\n",
            "[412, 1452, 2622, 1582, 3482, 6512, 3032, 6862, 7852, 9512]\n",
            "i,j,j+1 1 1 2\n",
            "[412, 1452, 2622, 1582, 3482, 6512, 3032, 6862, 7852, 9512]\n",
            "i,j,j+1 1 2 3\n",
            "[412, 1452, 1582, 2622, 3482, 6512, 3032, 6862, 7852, 9512]\n",
            "i,j,j+1 1 3 4\n",
            "[412, 1452, 1582, 2622, 3482, 6512, 3032, 6862, 7852, 9512]\n",
            "i,j,j+1 1 4 5\n",
            "[412, 1452, 1582, 2622, 3482, 6512, 3032, 6862, 7852, 9512]\n",
            "i,j,j+1 1 5 6\n",
            "[412, 1452, 1582, 2622, 3482, 3032, 6512, 6862, 7852, 9512]\n",
            "i,j,j+1 1 6 7\n",
            "[412, 1452, 1582, 2622, 3482, 3032, 6512, 6862, 7852, 9512]\n",
            "i,j,j+1 1 7 8\n",
            "[412, 1452, 1582, 2622, 3482, 3032, 6512, 6862, 7852, 9512]\n",
            "i,j,j+1 1 8 9\n",
            "[412, 1452, 1582, 2622, 3482, 3032, 6512, 6862, 7852, 9512]\n",
            "i,j,j+1 2 0 1\n",
            "[412, 1452, 1582, 2622, 3482, 3032, 6512, 6862, 7852, 9512]\n",
            "i,j,j+1 2 1 2\n",
            "[412, 1452, 1582, 2622, 3482, 3032, 6512, 6862, 7852, 9512]\n",
            "i,j,j+1 2 2 3\n",
            "[412, 1452, 1582, 2622, 3482, 3032, 6512, 6862, 7852, 9512]\n",
            "i,j,j+1 2 3 4\n",
            "[412, 1452, 1582, 2622, 3482, 3032, 6512, 6862, 7852, 9512]\n",
            "i,j,j+1 2 4 5\n",
            "[412, 1452, 1582, 2622, 3032, 3482, 6512, 6862, 7852, 9512]\n",
            "i,j,j+1 2 5 6\n",
            "[412, 1452, 1582, 2622, 3032, 3482, 6512, 6862, 7852, 9512]\n",
            "i,j,j+1 2 6 7\n",
            "[412, 1452, 1582, 2622, 3032, 3482, 6512, 6862, 7852, 9512]\n",
            "i,j,j+1 2 7 8\n",
            "[412, 1452, 1582, 2622, 3032, 3482, 6512, 6862, 7852, 9512]\n",
            "i,j,j+1 2 8 9\n",
            "[412, 1452, 1582, 2622, 3032, 3482, 6512, 6862, 7852, 9512]\n",
            "i,j,j+1 3 0 1\n",
            "[412, 1452, 1582, 2622, 3032, 3482, 6512, 6862, 7852, 9512]\n",
            "i,j,j+1 3 1 2\n",
            "[412, 1452, 1582, 2622, 3032, 3482, 6512, 6862, 7852, 9512]\n",
            "i,j,j+1 3 2 3\n",
            "[412, 1452, 1582, 2622, 3032, 3482, 6512, 6862, 7852, 9512]\n",
            "i,j,j+1 3 3 4\n",
            "[412, 1452, 1582, 2622, 3032, 3482, 6512, 6862, 7852, 9512]\n",
            "i,j,j+1 3 4 5\n",
            "[412, 1452, 1582, 2622, 3032, 3482, 6512, 6862, 7852, 9512]\n",
            "i,j,j+1 3 5 6\n",
            "[412, 1452, 1582, 2622, 3032, 3482, 6512, 6862, 7852, 9512]\n",
            "i,j,j+1 3 6 7\n",
            "[412, 1452, 1582, 2622, 3032, 3482, 6512, 6862, 7852, 9512]\n",
            "i,j,j+1 3 7 8\n",
            "[412, 1452, 1582, 2622, 3032, 3482, 6512, 6862, 7852, 9512]\n",
            "i,j,j+1 3 8 9\n",
            "[412, 1452, 1582, 2622, 3032, 3482, 6512, 6862, 7852, 9512]\n",
            "i,j,j+1 4 0 1\n",
            "[412, 1452, 1582, 2622, 3032, 3482, 6512, 6862, 7852, 9512]\n",
            "i,j,j+1 4 1 2\n",
            "[412, 1452, 1582, 2622, 3032, 3482, 6512, 6862, 7852, 9512]\n",
            "i,j,j+1 4 2 3\n",
            "[412, 1452, 1582, 2622, 3032, 3482, 6512, 6862, 7852, 9512]\n",
            "i,j,j+1 4 3 4\n",
            "[412, 1452, 1582, 2622, 3032, 3482, 6512, 6862, 7852, 9512]\n",
            "i,j,j+1 4 4 5\n",
            "[412, 1452, 1582, 2622, 3032, 3482, 6512, 6862, 7852, 9512]\n",
            "i,j,j+1 4 5 6\n",
            "[412, 1452, 1582, 2622, 3032, 3482, 6512, 6862, 7852, 9512]\n",
            "i,j,j+1 4 6 7\n",
            "[412, 1452, 1582, 2622, 3032, 3482, 6512, 6862, 7852, 9512]\n",
            "i,j,j+1 4 7 8\n",
            "[412, 1452, 1582, 2622, 3032, 3482, 6512, 6862, 7852, 9512]\n",
            "i,j,j+1 4 8 9\n",
            "[412, 1452, 1582, 2622, 3032, 3482, 6512, 6862, 7852, 9512]\n",
            "i,j,j+1 5 0 1\n",
            "[412, 1452, 1582, 2622, 3032, 3482, 6512, 6862, 7852, 9512]\n",
            "i,j,j+1 5 1 2\n",
            "[412, 1452, 1582, 2622, 3032, 3482, 6512, 6862, 7852, 9512]\n",
            "i,j,j+1 5 2 3\n",
            "[412, 1452, 1582, 2622, 3032, 3482, 6512, 6862, 7852, 9512]\n",
            "i,j,j+1 5 3 4\n",
            "[412, 1452, 1582, 2622, 3032, 3482, 6512, 6862, 7852, 9512]\n",
            "i,j,j+1 5 4 5\n",
            "[412, 1452, 1582, 2622, 3032, 3482, 6512, 6862, 7852, 9512]\n",
            "i,j,j+1 5 5 6\n",
            "[412, 1452, 1582, 2622, 3032, 3482, 6512, 6862, 7852, 9512]\n",
            "i,j,j+1 5 6 7\n",
            "[412, 1452, 1582, 2622, 3032, 3482, 6512, 6862, 7852, 9512]\n",
            "i,j,j+1 5 7 8\n",
            "[412, 1452, 1582, 2622, 3032, 3482, 6512, 6862, 7852, 9512]\n",
            "i,j,j+1 5 8 9\n",
            "[412, 1452, 1582, 2622, 3032, 3482, 6512, 6862, 7852, 9512]\n",
            "i,j,j+1 6 0 1\n",
            "[412, 1452, 1582, 2622, 3032, 3482, 6512, 6862, 7852, 9512]\n",
            "i,j,j+1 6 1 2\n",
            "[412, 1452, 1582, 2622, 3032, 3482, 6512, 6862, 7852, 9512]\n",
            "i,j,j+1 6 2 3\n",
            "[412, 1452, 1582, 2622, 3032, 3482, 6512, 6862, 7852, 9512]\n",
            "i,j,j+1 6 3 4\n",
            "[412, 1452, 1582, 2622, 3032, 3482, 6512, 6862, 7852, 9512]\n",
            "i,j,j+1 6 4 5\n",
            "[412, 1452, 1582, 2622, 3032, 3482, 6512, 6862, 7852, 9512]\n",
            "i,j,j+1 6 5 6\n",
            "[412, 1452, 1582, 2622, 3032, 3482, 6512, 6862, 7852, 9512]\n",
            "i,j,j+1 6 6 7\n",
            "[412, 1452, 1582, 2622, 3032, 3482, 6512, 6862, 7852, 9512]\n",
            "i,j,j+1 6 7 8\n",
            "[412, 1452, 1582, 2622, 3032, 3482, 6512, 6862, 7852, 9512]\n",
            "i,j,j+1 6 8 9\n",
            "[412, 1452, 1582, 2622, 3032, 3482, 6512, 6862, 7852, 9512]\n",
            "i,j,j+1 7 0 1\n",
            "[412, 1452, 1582, 2622, 3032, 3482, 6512, 6862, 7852, 9512]\n",
            "i,j,j+1 7 1 2\n",
            "[412, 1452, 1582, 2622, 3032, 3482, 6512, 6862, 7852, 9512]\n",
            "i,j,j+1 7 2 3\n",
            "[412, 1452, 1582, 2622, 3032, 3482, 6512, 6862, 7852, 9512]\n",
            "i,j,j+1 7 3 4\n",
            "[412, 1452, 1582, 2622, 3032, 3482, 6512, 6862, 7852, 9512]\n",
            "i,j,j+1 7 4 5\n",
            "[412, 1452, 1582, 2622, 3032, 3482, 6512, 6862, 7852, 9512]\n",
            "i,j,j+1 7 5 6\n",
            "[412, 1452, 1582, 2622, 3032, 3482, 6512, 6862, 7852, 9512]\n",
            "i,j,j+1 7 6 7\n",
            "[412, 1452, 1582, 2622, 3032, 3482, 6512, 6862, 7852, 9512]\n",
            "i,j,j+1 7 7 8\n",
            "[412, 1452, 1582, 2622, 3032, 3482, 6512, 6862, 7852, 9512]\n",
            "i,j,j+1 7 8 9\n",
            "[412, 1452, 1582, 2622, 3032, 3482, 6512, 6862, 7852, 9512]\n",
            "i,j,j+1 8 0 1\n",
            "[412, 1452, 1582, 2622, 3032, 3482, 6512, 6862, 7852, 9512]\n",
            "i,j,j+1 8 1 2\n",
            "[412, 1452, 1582, 2622, 3032, 3482, 6512, 6862, 7852, 9512]\n",
            "i,j,j+1 8 2 3\n",
            "[412, 1452, 1582, 2622, 3032, 3482, 6512, 6862, 7852, 9512]\n",
            "i,j,j+1 8 3 4\n",
            "[412, 1452, 1582, 2622, 3032, 3482, 6512, 6862, 7852, 9512]\n",
            "i,j,j+1 8 4 5\n",
            "[412, 1452, 1582, 2622, 3032, 3482, 6512, 6862, 7852, 9512]\n",
            "i,j,j+1 8 5 6\n",
            "[412, 1452, 1582, 2622, 3032, 3482, 6512, 6862, 7852, 9512]\n",
            "i,j,j+1 8 6 7\n",
            "[412, 1452, 1582, 2622, 3032, 3482, 6512, 6862, 7852, 9512]\n",
            "i,j,j+1 8 7 8\n",
            "[412, 1452, 1582, 2622, 3032, 3482, 6512, 6862, 7852, 9512]\n",
            "i,j,j+1 8 8 9\n",
            "[412, 1452, 1582, 2622, 3032, 3482, 6512, 6862, 7852, 9512]\n",
            "i,j,j+1 9 0 1\n",
            "[412, 1452, 1582, 2622, 3032, 3482, 6512, 6862, 7852, 9512]\n",
            "i,j,j+1 9 1 2\n",
            "[412, 1452, 1582, 2622, 3032, 3482, 6512, 6862, 7852, 9512]\n",
            "i,j,j+1 9 2 3\n",
            "[412, 1452, 1582, 2622, 3032, 3482, 6512, 6862, 7852, 9512]\n",
            "i,j,j+1 9 3 4\n",
            "[412, 1452, 1582, 2622, 3032, 3482, 6512, 6862, 7852, 9512]\n",
            "i,j,j+1 9 4 5\n",
            "[412, 1452, 1582, 2622, 3032, 3482, 6512, 6862, 7852, 9512]\n",
            "i,j,j+1 9 5 6\n",
            "[412, 1452, 1582, 2622, 3032, 3482, 6512, 6862, 7852, 9512]\n",
            "i,j,j+1 9 6 7\n",
            "[412, 1452, 1582, 2622, 3032, 3482, 6512, 6862, 7852, 9512]\n",
            "i,j,j+1 9 7 8\n",
            "[412, 1452, 1582, 2622, 3032, 3482, 6512, 6862, 7852, 9512]\n",
            "i,j,j+1 9 8 9\n",
            "[412, 1452, 1582, 2622, 3032, 3482, 6512, 6862, 7852, 9512]\n",
            "[412, 1452, 1582, 2622, 3032, 3482, 6512, 6862, 7852, 9512]\n"
          ],
          "name": "stdout"
        },
        {
          "output_type": "error",
          "ename": "NameError",
          "evalue": "ignored",
          "traceback": [
            "\u001b[0;31m---------------------------------------------------------------------------\u001b[0m",
            "\u001b[0;31mNameError\u001b[0m                                 Traceback (most recent call last)",
            "\u001b[0;32m<ipython-input-15-ed36a6678077>\u001b[0m in \u001b[0;36m<module>\u001b[0;34m()\u001b[0m\n\u001b[1;32m     27\u001b[0m \u001b[0;32mif\u001b[0m \u001b[0m__name__\u001b[0m \u001b[0;34m==\u001b[0m \u001b[0;34m\"__main__\"\u001b[0m\u001b[0;34m:\u001b[0m\u001b[0;34m\u001b[0m\u001b[0;34m\u001b[0m\u001b[0m\n\u001b[1;32m     28\u001b[0m   \u001b[0;32mfrom\u001b[0m \u001b[0mtimeit\u001b[0m \u001b[0;32mimport\u001b[0m \u001b[0mtimeit\u001b[0m\u001b[0;34m\u001b[0m\u001b[0;34m\u001b[0m\u001b[0m\n\u001b[0;32m---> 29\u001b[0;31m   \u001b[0mprint\u001b[0m\u001b[0;34m(\u001b[0m\u001b[0mtimeit\u001b[0m\u001b[0;34m(\u001b[0m\u001b[0mbubblesort\u001b[0m\u001b[0;34m(\u001b[0m\u001b[0;34m\"A\"\u001b[0m\u001b[0;34m)\u001b[0m\u001b[0;34m,\u001b[0m \u001b[0mnumber\u001b[0m\u001b[0;34m=\u001b[0m\u001b[0;36m5\u001b[0m\u001b[0;34m)\u001b[0m\u001b[0;34m)\u001b[0m\u001b[0;34m\u001b[0m\u001b[0;34m\u001b[0m\u001b[0m\n\u001b[0m\u001b[1;32m     30\u001b[0m   \u001b[0mprint\u001b[0m\u001b[0;34m(\u001b[0m\u001b[0mtimeit\u001b[0m\u001b[0;34m(\u001b[0m\u001b[0mbubblesort\u001b[0m\u001b[0;34m(\u001b[0m\u001b[0;34m\"A\"\u001b[0m\u001b[0;34m)\u001b[0m\u001b[0;34m,\u001b[0m \u001b[0mnumber\u001b[0m\u001b[0;34m=\u001b[0m\u001b[0;36m5\u001b[0m\u001b[0;34m)\u001b[0m\u001b[0;34m)\u001b[0m\u001b[0;34m\u001b[0m\u001b[0;34m\u001b[0m\u001b[0m\n",
            "\u001b[0;32m/usr/lib/python3.6/timeit.py\u001b[0m in \u001b[0;36mtimeit\u001b[0;34m(stmt, setup, timer, number, globals)\u001b[0m\n\u001b[1;32m    231\u001b[0m            number=default_number, globals=None):\n\u001b[1;32m    232\u001b[0m     \u001b[0;34m\"\"\"Convenience function to create Timer object and call timeit method.\"\"\"\u001b[0m\u001b[0;34m\u001b[0m\u001b[0;34m\u001b[0m\u001b[0m\n\u001b[0;32m--> 233\u001b[0;31m     \u001b[0;32mreturn\u001b[0m \u001b[0mTimer\u001b[0m\u001b[0;34m(\u001b[0m\u001b[0mstmt\u001b[0m\u001b[0;34m,\u001b[0m \u001b[0msetup\u001b[0m\u001b[0;34m,\u001b[0m \u001b[0mtimer\u001b[0m\u001b[0;34m,\u001b[0m \u001b[0mglobals\u001b[0m\u001b[0;34m)\u001b[0m\u001b[0;34m.\u001b[0m\u001b[0mtimeit\u001b[0m\u001b[0;34m(\u001b[0m\u001b[0mnumber\u001b[0m\u001b[0;34m)\u001b[0m\u001b[0;34m\u001b[0m\u001b[0;34m\u001b[0m\u001b[0m\n\u001b[0m\u001b[1;32m    234\u001b[0m \u001b[0;34m\u001b[0m\u001b[0m\n\u001b[1;32m    235\u001b[0m def repeat(stmt=\"pass\", setup=\"pass\", timer=default_timer,\n",
            "\u001b[0;32m/usr/lib/python3.6/timeit.py\u001b[0m in \u001b[0;36mtimeit\u001b[0;34m(self, number)\u001b[0m\n\u001b[1;32m    176\u001b[0m         \u001b[0mgc\u001b[0m\u001b[0;34m.\u001b[0m\u001b[0mdisable\u001b[0m\u001b[0;34m(\u001b[0m\u001b[0;34m)\u001b[0m\u001b[0;34m\u001b[0m\u001b[0;34m\u001b[0m\u001b[0m\n\u001b[1;32m    177\u001b[0m         \u001b[0;32mtry\u001b[0m\u001b[0;34m:\u001b[0m\u001b[0;34m\u001b[0m\u001b[0;34m\u001b[0m\u001b[0m\n\u001b[0;32m--> 178\u001b[0;31m             \u001b[0mtiming\u001b[0m \u001b[0;34m=\u001b[0m \u001b[0mself\u001b[0m\u001b[0;34m.\u001b[0m\u001b[0minner\u001b[0m\u001b[0;34m(\u001b[0m\u001b[0mit\u001b[0m\u001b[0;34m,\u001b[0m \u001b[0mself\u001b[0m\u001b[0;34m.\u001b[0m\u001b[0mtimer\u001b[0m\u001b[0;34m)\u001b[0m\u001b[0;34m\u001b[0m\u001b[0;34m\u001b[0m\u001b[0m\n\u001b[0m\u001b[1;32m    179\u001b[0m         \u001b[0;32mfinally\u001b[0m\u001b[0;34m:\u001b[0m\u001b[0;34m\u001b[0m\u001b[0;34m\u001b[0m\u001b[0m\n\u001b[1;32m    180\u001b[0m             \u001b[0;32mif\u001b[0m \u001b[0mgcold\u001b[0m\u001b[0;34m:\u001b[0m\u001b[0;34m\u001b[0m\u001b[0;34m\u001b[0m\u001b[0m\n",
            "\u001b[0;32m/usr/lib/python3.6/timeit.py\u001b[0m in \u001b[0;36minner\u001b[0;34m(_it, _timer)\u001b[0m\n",
            "\u001b[0;31mNameError\u001b[0m: name 'A' is not defined"
          ]
        }
      ]
    },
    {
      "cell_type": "code",
      "metadata": {
        "id": "ZKJzvsOgzTKO"
      },
      "source": [
        "# -*- coding: utf-8 -*-\r\n",
        "\"\"\"\r\n",
        "MergeSort\r\n",
        "Created on Fri Feb  5 10:43:30 2021\r\n",
        "@author: isandjaja\r\n",
        "\"\"\"\r\n",
        "import random\r\n",
        "\r\n",
        "A = [random.randrange(1,50,1) for i in range(10)]\r\n",
        "\r\n",
        "print(A)\r\n",
        "\r\n",
        "def merge(A,B):\r\n",
        "    lenA = len(A)\r\n",
        "    lenB = len(B)\r\n",
        "    i = 0 # index for A\r\n",
        "    j = 0 # index for B\r\n",
        "    result = []\r\n",
        "    print(\"Merge part (begin)\",A,B)\r\n",
        "    while(i<lenA) and (j<lenB):\r\n",
        "        if A[i] <= B[j]:\r\n",
        "            result.append(A[i])\r\n",
        "            i += 1\r\n",
        "        else:\r\n",
        "            result.append(B[j])\r\n",
        "            j += 1\r\n",
        "    \r\n",
        "    # Copy remaining elements to result        \r\n",
        "    while(i<lenA):\r\n",
        "        result.append(A[i])\r\n",
        "        i += 1\r\n",
        "    while(j<lenB):\r\n",
        "        result.append(B[j])\r\n",
        "        j += 1   \r\n",
        "    print(\"Merge part (end)\", result)\r\n",
        "    return result\r\n",
        "\r\n",
        "def mergesort(A):\r\n",
        "    n = len(A)\r\n",
        "    if n<=1:\r\n",
        "        return A\r\n",
        "    else:\r\n",
        "        mid = n//2\r\n",
        "        a = A[:mid]\r\n",
        "        b = A[mid:]\r\n",
        "        print(\"Divide part\",a,b)\r\n",
        "        return merge(mergesort(a),mergesort(b))\r\n",
        "\r\n",
        "print(\"Sorted A\")      \r\n",
        "B = mergesort(A)\r\n",
        "print(B)"
      ],
      "execution_count": null,
      "outputs": []
    },
    {
      "cell_type": "code",
      "metadata": {
        "id": "TSZ2k3LKzsi8"
      },
      "source": [
        ""
      ],
      "execution_count": null,
      "outputs": []
    }
  ]
}